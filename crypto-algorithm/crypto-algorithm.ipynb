{
 "cells": [
  {
   "cell_type": "markdown",
   "metadata": {},
   "source": [
    "## Helper Function"
   ]
  },
  {
   "cell_type": "code",
   "execution_count": 25,
   "metadata": {},
   "outputs": [],
   "source": [
    "def ascii_generator(text):\n",
    "    ascii_set = []\n",
    "    for char in text:\n",
    "        ascii_set.append(ord(char))\n",
    "\n",
    "    return ascii_set"
   ]
  },
  {
   "cell_type": "code",
   "execution_count": 26,
   "metadata": {},
   "outputs": [],
   "source": [
    "def inverseModulo(target, modulo_num, key):\n",
    "    pengali = 1\n",
    "    test = -1\n",
    "    while test < 0:\n",
    "        test = modulo_num * pengali + target - key\n",
    "        pengali += 1\n",
    "\n",
    "    return test"
   ]
  },
  {
   "cell_type": "code",
   "execution_count": 27,
   "metadata": {},
   "outputs": [],
   "source": [
    "def splitToNBlock(target_list, block_size):\n",
    "      \n",
    "    nBlockList = []\n",
    "    \n",
    "    for index in range(len(target_list)):\n",
    "        if(index % block_size == 0):\n",
    "            if index != 0:\n",
    "                nBlockList.append(block)\n",
    "            block = []\n",
    "        block.append(target_list[index])\n",
    "        if index == len(target_list) - 1:\n",
    "                nBlockList.append(block)\n",
    "\n",
    "    return nBlockList"
   ]
  },
  {
   "cell_type": "code",
   "execution_count": 28,
   "metadata": {},
   "outputs": [],
   "source": [
    "def reverseNBlockList(target_list):\n",
    "    return target_list[::-1]"
   ]
  },
  {
   "cell_type": "code",
   "execution_count": 29,
   "metadata": {},
   "outputs": [],
   "source": [
    "def joinBlockedList(target_list):\n",
    "    joinedList = []\n",
    "\n",
    "    for block in target_list:\n",
    "        for char in block:\n",
    "            joinedList.append(char)\n",
    "\n",
    "    return joinedList"
   ]
  },
  {
   "cell_type": "code",
   "execution_count": 30,
   "metadata": {},
   "outputs": [],
   "source": [
    "def getBlockSize(plain_text):\n",
    "    for i in range(len(plain_text)):\n",
    "        if i != 0 and i != 1:\n",
    "            if len(plain_text) % i == 0:\n",
    "                return i"
   ]
  },
  {
   "cell_type": "code",
   "execution_count": 31,
   "metadata": {},
   "outputs": [],
   "source": [
    "def sequenceReverseProcessing(target_list, block_size):\n",
    "    return joinBlockedList(reverseNBlockList(splitToNBlock(target_list, block_size)))"
   ]
  },
  {
   "cell_type": "code",
   "execution_count": 32,
   "metadata": {},
   "outputs": [],
   "source": [
    "def listToString(target_list, conv_from_ascii):\n",
    "    new_string = \"\"\n",
    "\n",
    "    for char in target_list:\n",
    "        if conv_from_ascii:\n",
    "            new_string += chr(char)  \n",
    "        else:  \n",
    "            new_string += char\n",
    "\n",
    "    return new_string"
   ]
  },
  {
   "cell_type": "code",
   "execution_count": 33,
   "metadata": {},
   "outputs": [],
   "source": [
    "def key_generator(plain_text, triggering_word):\n",
    "    # generate ascii code from triggering word''\n",
    "    triggering_word_ascii = ascii_generator(triggering_word)\n",
    "    \n",
    "    key_1 = []\n",
    "\n",
    "    for index in range(len(plain_text)):\n",
    "        key_1.append(triggering_word_ascii[index % len(triggering_word_ascii)])\n",
    "\n",
    "    key_2 = len(triggering_word_ascii)\n",
    "\n",
    "    block_size = getBlockSize(plain_text)\n",
    "    \n",
    "    key_3 = sequenceReverseProcessing(key_1, block_size)\n",
    "\n",
    "    super_key = []\n",
    "    for key_index in range(len(key_1)):\n",
    "        if (key_index % 2 == 0):\n",
    "            super_key.append((key_1[key_index] + key_2) * key_3[key_index])\n",
    "        else:\n",
    "            super_key.append((key_1[key_index] - key_2) * key_3[key_index])\n",
    "        \n",
    "\n",
    "    return super_key"
   ]
  },
  {
   "cell_type": "code",
   "execution_count": 38,
   "metadata": {},
   "outputs": [],
   "source": [
    "def encryptingText(plain_text, triggering_word):\n",
    "    super_key = key_generator(plain_text, triggering_word)\n",
    "    plain_text_ascii = ascii_generator(plain_text)\n",
    "\n",
    "    cipher_list_unreversed = []\n",
    "\n",
    "    for index in range(len(plain_text_ascii)):\n",
    "        plain_char = plain_text_ascii[index]\n",
    "        current_key = super_key[index]\n",
    "\n",
    "        cipher_char = (plain_char + current_key) % 255\n",
    "        cipher_list_unreversed.append(cipher_char)\n",
    "\n",
    "    cipher_list_reversed = sequenceReverseProcessing(cipher_list_unreversed, getBlockSize(plain_text))\n",
    "    cipher_text_final = listToString(cipher_list_reversed, True)\n",
    "\n",
    "    return cipher_text_final\n",
    "    "
   ]
  },
  {
   "cell_type": "code",
   "execution_count": 39,
   "metadata": {},
   "outputs": [],
   "source": [
    "def decryptingText(cipher_text, triggering_word):\n",
    "    super_key = key_generator(cipher_text, triggering_word)\n",
    "    cipher_text_ascii = ascii_generator(cipher_text)\n",
    "\n",
    "    cipher_text_ascii_reversed = sequenceReverseProcessing(cipher_text_ascii, getBlockSize(cipher_text))\n",
    "\n",
    "    plain_list = []\n",
    "\n",
    "    for index in range(len(cipher_text_ascii_reversed)):\n",
    "        cipher_char = cipher_text_ascii_reversed[index]\n",
    "        current_key = super_key[index]\n",
    "\n",
    "        plain_char = inverseModulo(cipher_char, 255, current_key)\n",
    "        plain_list.append(chr(plain_char))\n",
    "\n",
    "    return listToString(plain_list, False)\n"
   ]
  },
  {
   "cell_type": "code",
   "execution_count": 40,
   "metadata": {},
   "outputs": [
    {
     "name": "stdout",
     "output_type": "stream",
     "text": [
      "¥[üâÀ;Ñ³\u000f\\\u0018Kå\u000f©q9\u0001Í\u001fB\u0014ãÏãë¢¢FñwìÏ¼\u001b\\\u0018Gèú©k-ýÅM`B\u00066Êàëä>~OëyìÑÄ\u001b¥\u0011G sãïÉMd@À1ÍåÙâ¦üã¹1Å\u0018\u0002ÔÇ\\f9øhì\n",
      "(ÆÖçî>¡¢Oç¾ìÄÄ\u001aÃO¹q2íÔMt1\u00162ÈÔáCï¤¡LµBÕ¾\u0007hÃW°b-ðÔm6\u000fãÎæÜÞ Iêk@Æ\u000b¯\u0017C\u0007h1¸É r2¾ÜCÎ¡\u000bó¾ìÈ½\u0016©ÃV¥h7¬Ïk.À1Çî¥MFç»6ØÃ\t°ÃUç\n",
      "Eæ\t¨t1¬Åc/\n",
      "S¹s%ñ£hB\u000f8½ÚÜäüó¾ìÛ¹\u0013\\\u0011Cáúh\u001f9þÒ`:À9z¿ÙéLFòk@ÈÂ\u0007¨\u0005Eç¹¬`1ñÉ¡\u001fAÀ7ÍÖæÜ_M-ë°A×p\u0007\\\u0017K°b-ðÔm@\n",
      "ãzßáÜB»9Ñµ\tÏ\u0002Ô\u0001ªsãùÄ¢m;\u0004-zåáðKä°?È´ÅjÃ5Üþ°d6ðÉoB\u000eãÃÔì Rßk?Ù¹\n",
      "Få\u0003¯l%\u0002Î\u001f6\u0007)¿ÝÝî>¢O¬k\u001aÈµ\u001a\u0013TÜ¹¨n6ïÕ\u001f6\u00145ÆÖêÞüô´;ÓÅ\u0012Ï\u0002â\f°rãüÁt?À0ÃßÙçMMã¹6Ç¿Å©\u0011Qü«m)ïqn0\n",
      "ñzàêï¡¢QôÀ9ÈÄÅ\u0011\u0002è\u0006¨-ãÚÓm0\u00161zÒÛCèPð´0Ø¼\u001a\u0002¹¯q8ín1\n",
      "3½çLç¾ìÒ¼\u0012¯ÃO`)ïML=\n",
      "\\`8\u0001Ml@\u0006(»ÞCßPí¯.p\u0019 \u0019Oçþ®\u001f-úÅn9\n",
      "Gå\u000e±\u001f4íÄr6\u0014ã»Øæ¤MBç­BÑ±\u001a\\\u0014Gä\u000f¡`8ûÓMm?\n",
      "9zçÙÞ_M,ò¬@Êµ\u0019¯ÃGå\n",
      "¥\u001f8\u0002b:\u00067z×Ùß Rë¬9ÈÄÅ±\u0017\u0002áþ°d8¬Õ \u001f2\u00048ÍÖæà>¥Nð´@Ìp\u001a«\u0016Dç¹©s%úÁh2À,ÍâíïB2Ì´Ó±\u0017\u0002Ø\u0007¬lã\u0001Ð t.À-ÐÚÜí¦¡üñwìØÂ\u000f\\\u0011Cá\u000e¡`ãíÉh9\u0002'ÏäÜQFí¾úµ\u0018°\u0005G\u0010¥f)\u0001ÔMd4\n",
      "%ÀÖíî>I¾<Ó¹\u0019°\u0019TØ\u000e\\\u001f)óhB\n",
      "\\c%ø n9\n",
      "¥mãún@\u0014%zÞÙÜPðk2È·\u000b\u0012VçÇ\\d0õÎ\u001f@\u0004-ÃááCÜ¥¢Oá¿2ÑÃ\u000b\\\u0007QØ\u000eh\u001f%ùÓs<\u0013ã¾àäè>Pã¸ì¯¿\u0018\n"
     ]
    }
   ],
   "source": [
    "cipher = encryptingText(\"Lorem ipsum dolor sit amet, consectetur adipiscing elit. Integer egestas massa non nisi vehicula tempor. Integer porta fringilla scelerisque. Ut ac volutpat odio, ac sollicitudin orci. Etiam iaculis sodales mauris, sed tincidunt eros cursus sagittis. Maecenas bibendum, augue sit amet feugiat rutrum, neque nisi malesuada lectus, quis euismod nisl purus ac velit. Donec hendrerit, neque vel vestibulum ullamcorper, ex ipsum pellentesque est, scelerisque pellentesque diam nisi vel felis. Morbi quis mi eget turpis sodales feugiat eget vitae eros. Vivamus lacinia ante mauris, ut gravida ipsum tempus id. Pellentesque habitant morbi tristique senectus et netus et malesuada fames ac turpis egestas. Orci varius natoque penatibus et magnis dis parturient montes, nascetur ridiculus mus. Pellentesque bibendum pretium nisi sit amet sodales. Nam accumsan orci nec leo vehicula ultricies sed id velit. Aenean ac placerat sapien. Praesent sit amet consectetur massa, tempor iaculis nulla. Nam et ex convallis, luctus lorem sollicitudin, vehicula odio. Mauris dictum sapien sit amet odio vulputate fermentum. Pellentesque dictum neque ac tempus interdum. Fusce vel quam a lectus posuere finibus ac vitae mauris. Etiam molestie rhoncus mattis. Nunc sed libero interdum, sodales diam sed, mattis eros. Mauris pharetra erat id auctor ultrices. Nunc a consectetur lorem. Fusce turpis velit, facilisis in dolor in, suscipit fermentum turpis. Maecenas mollis eros ac odio porta, sed ultricies mi accumsan. Nullam et vulputate orci. Donec commodo enim pulvinar lacus porta, pulvinar scelerisque orci laoreet. Mauris eleifend mauris id nibh ornare egestas. In vehicula orci faucibus pharetra posuere. Praesent cursus enim gravida risus dictum imperdiet. Sed fermentum tincidunt magna, nec placerat nisi tincidunt sit amet. Praesent sit amet placerat sapien. Nam urna urna, maximus in tincidunt vitae, aliquet vitae turpis. Nulla rutrum lorem ut pulvinar tempor. Fusce volutpat tellus vitae eros posuere mollis. Nulla interdum neque sed mauris imperdiet condimentum. Cras ullamcorper egestas quam, id iaculis enim interdum non. Nunc vehicula pretium mattis. Sed euismod augue vel turpis interdum, ac gravida mi blandit. Vestibulum facilisis, sapien a bibendum sollicitudin, nisi justo cursus est, at sodales nisl risus vitae turpis. In hac habitasse platea dictumst. Praesent volutpat suscipit ipsum, a mollis enim tempus et. Sed dignissim, massa vel sollicitudin tincidunt, urna justo tincidunt urna, ac mattis purus leo id ligula. Ut bibendum egestas mi et condimentum. Morbi posuere aliquam tellus, quis cursus mi rutrum tincidunt. \", 'kunci')\n",
    "print(cipher)"
   ]
  },
  {
   "cell_type": "code",
   "execution_count": 41,
   "metadata": {},
   "outputs": [
    {
     "name": "stdout",
     "output_type": "stream",
     "text": [
      "Lorem ipsum dolor sit amet, consectetur adipiscing elit. Integer egestas massa non nisi vehicula tempor. Integer porta fringilla scelerisque. Ut ac volutpat odio, ac sollicitudin orci. Etiam iaculis sodales mauris, sed tincidunt eros cursus sagittis. Maecenas bibendum, augue sit amet feugiat rutrum, neque nisi malesuada lectus, quis euismod nisl purus ac velit. Donec hendrerit, neque vel vestibulum ullamcorper, ex ipsum pellentesque est, scelerisque pellentesque diam nisi vel felis. Morbi quis mi eget turpis sodales feugiat eget vitae eros. Vivamus lacinia ante mauris, ut gravida ipsum tempus id. Pellentesque habitant morbi tristique senectus et netus et malesuada fames ac turpis egestas. Orci varius natoque penatibus et magnis dis parturient montes, nascetur ridiculus mus. Pellentesque bibendum pretium nisi sit amet sodales. Nam accumsan orci nec leo vehicula ultricies sed id velit. Aenean ac placerat sapien. Praesent sit amet consectetur massa, tempor iaculis nulla. Nam et ex convallis, luctus lorem sollicitudin, vehicula odio. Mauris dictum sapien sit amet odio vulputate fermentum. Pellentesque dictum neque ac tempus interdum. Fusce vel quam a lectus posuere finibus ac vitae mauris. Etiam molestie rhoncus mattis. Nunc sed libero interdum, sodales diam sed, mattis eros. Mauris pharetra erat id auctor ultrices. Nunc a consectetur lorem. Fusce turpis velit, facilisis in dolor in, suscipit fermentum turpis. Maecenas mollis eros ac odio porta, sed ultricies mi accumsan. Nullam et vulputate orci. Donec commodo enim pulvinar lacus porta, pulvinar scelerisque orci laoreet. Mauris eleifend mauris id nibh ornare egestas. In vehicula orci faucibus pharetra posuere. Praesent cursus enim gravida risus dictum imperdiet. Sed fermentum tincidunt magna, nec placerat nisi tincidunt sit amet. Praesent sit amet placerat sapien. Nam urna urna, maximus in tincidunt vitae, aliquet vitae turpis. Nulla rutrum lorem ut pulvinar tempor. Fusce volutpat tellus vitae eros posuere mollis. Nulla interdum neque sed mauris imperdiet condimentum. Cras ullamcorper egestas quam, id iaculis enim interdum non. Nunc vehicula pretium mattis. Sed euismod augue vel turpis interdum, ac gravida mi blandit. Vestibulum facilisis, sapien a bibendum sollicitudin, nisi justo cursus est, at sodales nisl risus vitae turpis. In hac habitasse platea dictumst. Praesent volutpat suscipit ipsum, a mollis enim tempus et. Sed dignissim, massa vel sollicitudin tincidunt, urna justo tincidunt urna, ac mattis purus leo id ligula. Ut bibendum egestas mi et condimentum. Morbi posuere aliquam tellus, quis cursus mi rutrum tincidunt. \n"
     ]
    }
   ],
   "source": [
    "print(decryptingText(cipher, 'kunci'))"
   ]
  },
  {
   "cell_type": "code",
   "execution_count": null,
   "metadata": {},
   "outputs": [],
   "source": []
  }
 ],
 "metadata": {
  "interpreter": {
   "hash": "79f5dee2dacd5509fd85288da4c7aaf83e76828531ca3b424bec0c7c545dc892"
  },
  "kernelspec": {
   "display_name": "Python 3.8.8 64-bit ('base': conda)",
   "name": "python3"
  },
  "language_info": {
   "codemirror_mode": {
    "name": "ipython",
    "version": 3
   },
   "file_extension": ".py",
   "mimetype": "text/x-python",
   "name": "python",
   "nbconvert_exporter": "python",
   "pygments_lexer": "ipython3",
   "version": "3.8.8"
  },
  "orig_nbformat": 4
 },
 "nbformat": 4,
 "nbformat_minor": 2
}
