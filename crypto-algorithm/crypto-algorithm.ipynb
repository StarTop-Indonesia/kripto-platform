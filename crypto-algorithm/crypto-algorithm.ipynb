{
 "cells": [
  {
   "cell_type": "markdown",
   "source": [
    "## Helper Function"
   ],
   "metadata": {}
  },
  {
   "cell_type": "code",
   "execution_count": 4,
   "source": [
    "def ascii_generator(text):\n",
    "    ascii_set = []\n",
    "    for char in text:\n",
    "        ascii_set.append(ord(char))\n",
    "\n",
    "    return ascii_set"
   ],
   "outputs": [],
   "metadata": {}
  },
  {
   "cell_type": "code",
   "execution_count": 86,
   "source": [
    "def inverseModulo(target, modulo_num, key):\n",
    "    pengali = 1\n",
    "    test = -1\n",
    "    while test < 0:\n",
    "        test = modulo_num * pengali + target - key\n",
    "        # print(\"{} = {} * {} + {} - {}\".format(test, modulo_num, pengali, target, key))\n",
    "        pengali += 1\n",
    "\n",
    "    return test"
   ],
   "outputs": [],
   "metadata": {}
  },
  {
   "cell_type": "code",
   "execution_count": 5,
   "source": [
    "def splitToNBlock(target_list, block_size):\n",
    "    while len(target_list) % block_size != 0:\n",
    "        if type(target_list) == str:\n",
    "            target_list += 36\n",
    "            # 36 merupakan ascii dari $\n",
    "        else:\n",
    "            target_list.append(36)\n",
    "      \n",
    "    nBlockList = []\n",
    "    \n",
    "    for index in range(len(target_list)):\n",
    "        if(index % block_size == 0):\n",
    "            if index != 0:\n",
    "                nBlockList.append(block)\n",
    "            block = []\n",
    "        block.append(target_list[index])\n",
    "        if index == len(target_list) - 1:\n",
    "                nBlockList.append(block)\n",
    "\n",
    "    return nBlockList"
   ],
   "outputs": [],
   "metadata": {}
  },
  {
   "cell_type": "code",
   "execution_count": 6,
   "source": [
    "def reverseNBlockList(target_list):\n",
    "    return target_list[::-1]"
   ],
   "outputs": [],
   "metadata": {}
  },
  {
   "cell_type": "code",
   "execution_count": 7,
   "source": [
    "def joinBlockedList(target_list):\n",
    "    joinedList = []\n",
    "\n",
    "    for block in target_list:\n",
    "        for char in block:\n",
    "            joinedList.append(char)\n",
    "\n",
    "    return joinedList"
   ],
   "outputs": [],
   "metadata": {}
  },
  {
   "cell_type": "code",
   "execution_count": 8,
   "source": [
    "def getBlockSize(triggering_word):\n",
    "    return round(len(triggering_word) / 3)"
   ],
   "outputs": [],
   "metadata": {}
  },
  {
   "cell_type": "code",
   "execution_count": 9,
   "source": [
    "def sequenceReverseProcessing(target_list, block_size):\n",
    "    return joinBlockedList(reverseNBlockList(splitToNBlock(target_list, block_size)))"
   ],
   "outputs": [],
   "metadata": {}
  },
  {
   "cell_type": "code",
   "execution_count": 10,
   "source": [
    "def listToString(target_list, conv_from_ascii):\n",
    "    new_string = \"\"\n",
    "\n",
    "    for char in target_list:\n",
    "        if conv_from_ascii:\n",
    "            new_string += chr(char)  \n",
    "        else:  \n",
    "            new_string += char\n",
    "\n",
    "    return new_string"
   ],
   "outputs": [],
   "metadata": {}
  },
  {
   "cell_type": "markdown",
   "source": [
    "## Algorithm"
   ],
   "metadata": {}
  },
  {
   "cell_type": "code",
   "execution_count": 11,
   "source": [
    "# PROSES 1 -> GENERATE LIST KUNCI\n",
    "def key_generator(plain_text, triggering_word):\n",
    "    # generate ascii code from triggering word''\n",
    "    triggering_word_ascii = ascii_generator(triggering_word)\n",
    "    \n",
    "    key_1 = []\n",
    "\n",
    "    for index in range(len(plain_text)):\n",
    "        key_1.append(triggering_word_ascii[index % len(triggering_word_ascii)])\n",
    "\n",
    "    key_2 = len(triggering_word_ascii)\n",
    "\n",
    "    block_size = getBlockSize(triggering_word)\n",
    "    \n",
    "    key_3 = sequenceReverseProcessing(key_1, block_size)\n",
    "\n",
    "    super_key = []\n",
    "    for key_index in range(len(key_1)):\n",
    "        if (key_index % 2 == 0):\n",
    "            super_key.append((key_1[key_index] + key_2) * key_3[key_index])\n",
    "        else:\n",
    "            super_key.append((key_1[key_index] - key_2) * key_3[key_index])\n",
    "        \n",
    "\n",
    "    return super_key"
   ],
   "outputs": [],
   "metadata": {}
  },
  {
   "cell_type": "code",
   "execution_count": 81,
   "source": [
    "def encrypting(plain_text, triggering_word):\n",
    "    super_key = key_generator(plain_text, triggering_word)\n",
    "    plain_text_ascii = ascii_generator(plain_text)\n",
    "\n",
    "    cipher_list_unreversed = []\n",
    "\n",
    "    for index in range(len(plain_text_ascii)):\n",
    "        plain_char = plain_text_ascii[index]\n",
    "        current_key = super_key[index]\n",
    "\n",
    "        cipher_char = (plain_char + current_key) % 255\n",
    "        cipher_list_unreversed.append(cipher_char)\n",
    "\n",
    "    cipher_list_reversed = sequenceReverseProcessing(cipher_list_unreversed, getBlockSize(triggering_word))\n",
    "    cipher_text_final = listToString(cipher_list_reversed, True)\n",
    "\n",
    "    return cipher_text_final\n",
    "    "
   ],
   "outputs": [],
   "metadata": {}
  },
  {
   "cell_type": "code",
   "execution_count": 87,
   "source": [
    "def decrypting(cipher_text, triggering_word):\n",
    "    super_key = key_generator(cipher_text, triggering_word)\n",
    "    cipher_text_ascii = ascii_generator(cipher_text)\n",
    "\n",
    "    cipher_text_ascii_reversed = sequenceReverseProcessing(cipher_text_ascii, getBlockSize(triggering_word))\n",
    "\n",
    "    plain_list = []\n",
    "\n",
    "    for index in range(len(cipher_text_ascii_reversed)):\n",
    "        cipher_char = cipher_text_ascii_reversed[index]\n",
    "        current_key = super_key[index]\n",
    "\n",
    "        plain_char = inverseModulo(cipher_char, 255, current_key)\n",
    "        plain_list.append(chr(plain_char))\n",
    "\n",
    "    return listToString(plain_list, False)\n"
   ],
   "outputs": [],
   "metadata": {}
  },
  {
   "cell_type": "code",
   "execution_count": 88,
   "source": [
    "cipher = encrypting(\"muhammad alfarizi tazkiaa\", 'kunci')"
   ],
   "outputs": [],
   "metadata": {}
  },
  {
   "cell_type": "code",
   "execution_count": 89,
   "source": [
    "print(decrypting(cipher, 'kunci'))"
   ],
   "outputs": [
    {
     "output_type": "error",
     "ename": "ValueError",
     "evalue": "chr() arg not in range(0x110000)",
     "traceback": [
      "\u001b[0;31m---------------------------------------------------------------------------\u001b[0m",
      "\u001b[0;31mValueError\u001b[0m                                Traceback (most recent call last)",
      "\u001b[0;32m/tmp/ipykernel_63334/1118096366.py\u001b[0m in \u001b[0;36m<module>\u001b[0;34m\u001b[0m\n\u001b[0;32m----> 1\u001b[0;31m \u001b[0mprint\u001b[0m\u001b[0;34m(\u001b[0m\u001b[0mdecrypting\u001b[0m\u001b[0;34m(\u001b[0m\u001b[0mcipher\u001b[0m\u001b[0;34m,\u001b[0m \u001b[0;34m'kunci'\u001b[0m\u001b[0;34m)\u001b[0m\u001b[0;34m)\u001b[0m\u001b[0;34m\u001b[0m\u001b[0;34m\u001b[0m\u001b[0m\n\u001b[0m",
      "\u001b[0;32m/tmp/ipykernel_63334/3078305861.py\u001b[0m in \u001b[0;36mdecrypting\u001b[0;34m(cipher_text, triggering_word)\u001b[0m\n\u001b[1;32m     12\u001b[0m \u001b[0;34m\u001b[0m\u001b[0m\n\u001b[1;32m     13\u001b[0m         \u001b[0mplain_char\u001b[0m \u001b[0;34m=\u001b[0m \u001b[0minverseModulo\u001b[0m\u001b[0;34m(\u001b[0m\u001b[0mcipher_char\u001b[0m\u001b[0;34m,\u001b[0m \u001b[0;36m255\u001b[0m\u001b[0;34m,\u001b[0m \u001b[0mcurrent_key\u001b[0m\u001b[0;34m)\u001b[0m\u001b[0;34m\u001b[0m\u001b[0;34m\u001b[0m\u001b[0m\n\u001b[0;32m---> 14\u001b[0;31m         \u001b[0mplain_list\u001b[0m\u001b[0;34m.\u001b[0m\u001b[0mappend\u001b[0m\u001b[0;34m(\u001b[0m\u001b[0mchr\u001b[0m\u001b[0;34m(\u001b[0m\u001b[0mplain_char\u001b[0m\u001b[0;34m)\u001b[0m\u001b[0;34m)\u001b[0m\u001b[0;34m\u001b[0m\u001b[0;34m\u001b[0m\u001b[0m\n\u001b[0m\u001b[1;32m     15\u001b[0m \u001b[0;34m\u001b[0m\u001b[0m\n\u001b[1;32m     16\u001b[0m     \u001b[0;32mreturn\u001b[0m \u001b[0mlistToString\u001b[0m\u001b[0;34m(\u001b[0m\u001b[0mplain_list\u001b[0m\u001b[0;34m,\u001b[0m \u001b[0;32mFalse\u001b[0m\u001b[0;34m)\u001b[0m\u001b[0;34m\u001b[0m\u001b[0;34m\u001b[0m\u001b[0m\n",
      "\u001b[0;31mValueError\u001b[0m: chr() arg not in range(0x110000)"
     ]
    }
   ],
   "metadata": {}
  },
  {
   "cell_type": "code",
   "execution_count": null,
   "source": [],
   "outputs": [],
   "metadata": {}
  }
 ],
 "metadata": {
  "orig_nbformat": 4,
  "language_info": {
   "name": "python",
   "version": "3.8.8",
   "mimetype": "text/x-python",
   "codemirror_mode": {
    "name": "ipython",
    "version": 3
   },
   "pygments_lexer": "ipython3",
   "nbconvert_exporter": "python",
   "file_extension": ".py"
  },
  "kernelspec": {
   "name": "python3",
   "display_name": "Python 3.8.8 64-bit ('base': conda)"
  },
  "interpreter": {
   "hash": "79f5dee2dacd5509fd85288da4c7aaf83e76828531ca3b424bec0c7c545dc892"
  }
 },
 "nbformat": 4,
 "nbformat_minor": 2
}