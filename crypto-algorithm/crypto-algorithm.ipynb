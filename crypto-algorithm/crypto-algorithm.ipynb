{
 "cells": [
  {
   "cell_type": "code",
   "execution_count": 2,
   "source": [
    "def ascii_generator(text):\n",
    "    ascii_set = []\n",
    "    for char in text:\n",
    "        ascii_set.append(ord(char))\n",
    "\n",
    "    return ascii_set"
   ],
   "outputs": [],
   "metadata": {}
  },
  {
   "cell_type": "code",
   "execution_count": 21,
   "source": [
    "def key_generator(plain_text, triggering_word):\n",
    "    triggering_word_ascii = ascii_generator(triggering_word)\n",
    "    \n",
    "    key_1 = []\n",
    "\n",
    "    for index in range(len(plain_text)):\n",
    "        key_1.append(triggering_word_ascii[index % len(triggering_word_ascii)])\n",
    "\n",
    "    key_2 = len(triggering_word_ascii)\n",
    "\n",
    "    key_3 = key_1[::-1]\n",
    "\n",
    "    return key_1, key_2, key_3"
   ],
   "outputs": [],
   "metadata": {}
  },
  {
   "cell_type": "code",
   "execution_count": 50,
   "source": [
    "def encrypting(plain_text, triggering_word):\n",
    "    (key_1, key_2, key_3) = key_generator(plain_text, triggering_word)\n",
    "    plain_text_ascii = ascii_generator(plain_text)\n",
    "\n",
    "    cipher_text = \"\"\n",
    "    uninversed_cipher_text_ascii = []\n",
    "\n",
    "    for index in range(len(plain_text_ascii)):\n",
    "        plain_char = plain_text_ascii[index]\n",
    "\n",
    "        current_key_1 = key_1[index]\n",
    "        current_key_3 = key_3[index]\n",
    "\n",
    "        cipher_char = ((plain_char + current_key_1) * key_2  - current_key_3) % 255\n",
    "        uninversed_cipher_text_ascii.append(cipher_char)\n",
    "\n",
    "    cipher_text_ascii = uninversed_cipher_text_ascii[::-1]\n",
    "    \n",
    "    for char_ascii in cipher_text_ascii:\n",
    "        cipher_text += chr(char_ascii)\n",
    "\n",
    "    return cipher_text, cipher_text_ascii"
   ],
   "outputs": [],
   "metadata": {}
  },
  {
   "cell_type": "code",
   "execution_count": 51,
   "source": [
    "print(encrypting(\"saya anak baik\", \"kunci\"))"
   ],
   "outputs": [
    {
     "output_type": "stream",
     "name": "stdout",
     "text": [
      "('\\x9eÁÃ¡F\\x9e\\x99\\x05\\x9cFl\\x12Ãö', [158, 193, 195, 161, 70, 158, 153, 5, 156, 70, 108, 18, 195, 246])\n"
     ]
    }
   ],
   "metadata": {}
  },
  {
   "cell_type": "code",
   "execution_count": null,
   "source": [],
   "outputs": [],
   "metadata": {}
  }
 ],
 "metadata": {
  "orig_nbformat": 4,
  "language_info": {
   "name": "python",
   "version": "3.8.8",
   "mimetype": "text/x-python",
   "codemirror_mode": {
    "name": "ipython",
    "version": 3
   },
   "pygments_lexer": "ipython3",
   "nbconvert_exporter": "python",
   "file_extension": ".py"
  },
  "kernelspec": {
   "name": "python3",
   "display_name": "Python 3.8.8 64-bit ('base': conda)"
  },
  "interpreter": {
   "hash": "79f5dee2dacd5509fd85288da4c7aaf83e76828531ca3b424bec0c7c545dc892"
  }
 },
 "nbformat": 4,
 "nbformat_minor": 2
}